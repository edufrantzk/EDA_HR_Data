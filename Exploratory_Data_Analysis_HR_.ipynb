{
  "nbformat": 4,
  "nbformat_minor": 0,
  "metadata": {
    "colab": {
      "provenance": [],
      "collapsed_sections": [],
      "mount_file_id": "1TJHX3-0qn3KjhAOUe0YtzfqU2lTFurYn",
      "authorship_tag": "ABX9TyMoRuTIPa9p8+Z9vQ4LRKQ3"
    },
    "kernelspec": {
      "name": "python3",
      "display_name": "Python 3"
    },
    "language_info": {
      "name": "python"
    }
  },
  "cells": [
    {
      "cell_type": "markdown",
      "source": [
        "# Employee Churn Analysis\n",
        "\n",
        "* The folllowing dataset contains the information of 15.000 employees of a company. Each record represents an employee.\n",
        "\n",
        "https://www.kaggle.com/datasets/jacksonchou/hr-data-for-analytics\n"
      ],
      "metadata": {
        "id": "xoKgW7k3RcJa"
      }
    },
    {
      "cell_type": "markdown",
      "source": [
        "## About the data:\n",
        "\n",
        "Variables description :\n",
        "\n",
        "Dependent variable\n",
        "\n",
        "* Left : 1 if employee left company, 0 if not left the company\n",
        "\n",
        "Independent variables\n",
        "\n",
        "* satisfaction_level : how much employee satisfied (0 less satisfied , 1 most satisfied)\n",
        "\n",
        "* last_evaluation : means employees evaluation for last month (0 bad , 1 Excellent)\n",
        "\n",
        "* number_project : number of projects the employee worked on\n",
        "\n",
        "* average_montly_hours : average hours employee spends at work per month\n",
        "\n",
        "* time_spend_company : years the employee spent in a company\n",
        "\n",
        "* Work_accident : 1 if had at least one, 0 if he did not have an accident \n",
        "\n",
        "* promotion_last_5years : 1 if had at least one, 0 if he did not have any promotion in last 5 years\n",
        "\n",
        "* Department : department in which employee works"
      ],
      "metadata": {
        "id": "dqW4DVaYge56"
      }
    },
    {
      "cell_type": "code",
      "execution_count": null,
      "metadata": {
        "id": "ebvOkutNHOP3"
      },
      "outputs": [],
      "source": [
        "#Imports \n",
        "import pandas as pd\n",
        "import numpy as np\n",
        "import seaborn as sns\n",
        "import matplotlib.pyplot as plt\n",
        "\n",
        "import warnings\n",
        "warnings.filterwarnings('ignore')"
      ]
    },
    {
      "cell_type": "code",
      "source": [
        "df = pd.read_csv('/content/drive/MyDrive/HR_Data.csv')"
      ],
      "metadata": {
        "id": "PtxfwnyfR8mg"
      },
      "execution_count": null,
      "outputs": []
    },
    {
      "cell_type": "markdown",
      "source": [
        "## Quick visualization of the data"
      ],
      "metadata": {
        "id": "75YL4apuTKs5"
      }
    },
    {
      "cell_type": "code",
      "source": [
        "df.head()"
      ],
      "metadata": {
        "colab": {
          "base_uri": "https://localhost:8080/",
          "height": 270
        },
        "id": "W3L0gdFVS5dI",
        "outputId": "eea3bd8e-a03b-4fd4-9b15-ccd0a5754ef3"
      },
      "execution_count": null,
      "outputs": [
        {
          "output_type": "execute_result",
          "data": {
            "text/plain": [
              "   satisfaction_level  last_evaluation  number_project  average_montly_hours  \\\n",
              "0                0.38             0.53               2                   157   \n",
              "1                0.80             0.86               5                   262   \n",
              "2                0.11             0.88               7                   272   \n",
              "3                0.72             0.87               5                   223   \n",
              "4                0.37             0.52               2                   159   \n",
              "\n",
              "   time_spend_company  Work_accident  left  promotion_last_5years Department  \\\n",
              "0                   3              0     1                      0      sales   \n",
              "1                   6              0     1                      0      sales   \n",
              "2                   4              0     1                      0      sales   \n",
              "3                   5              0     1                      0      sales   \n",
              "4                   3              0     1                      0      sales   \n",
              "\n",
              "   salary  \n",
              "0     low  \n",
              "1  medium  \n",
              "2  medium  \n",
              "3     low  \n",
              "4     low  "
            ],
            "text/html": [
              "\n",
              "  <div id=\"df-1be7455d-d31a-467d-89fc-d77df28374ad\">\n",
              "    <div class=\"colab-df-container\">\n",
              "      <div>\n",
              "<style scoped>\n",
              "    .dataframe tbody tr th:only-of-type {\n",
              "        vertical-align: middle;\n",
              "    }\n",
              "\n",
              "    .dataframe tbody tr th {\n",
              "        vertical-align: top;\n",
              "    }\n",
              "\n",
              "    .dataframe thead th {\n",
              "        text-align: right;\n",
              "    }\n",
              "</style>\n",
              "<table border=\"1\" class=\"dataframe\">\n",
              "  <thead>\n",
              "    <tr style=\"text-align: right;\">\n",
              "      <th></th>\n",
              "      <th>satisfaction_level</th>\n",
              "      <th>last_evaluation</th>\n",
              "      <th>number_project</th>\n",
              "      <th>average_montly_hours</th>\n",
              "      <th>time_spend_company</th>\n",
              "      <th>Work_accident</th>\n",
              "      <th>left</th>\n",
              "      <th>promotion_last_5years</th>\n",
              "      <th>Department</th>\n",
              "      <th>salary</th>\n",
              "    </tr>\n",
              "  </thead>\n",
              "  <tbody>\n",
              "    <tr>\n",
              "      <th>0</th>\n",
              "      <td>0.38</td>\n",
              "      <td>0.53</td>\n",
              "      <td>2</td>\n",
              "      <td>157</td>\n",
              "      <td>3</td>\n",
              "      <td>0</td>\n",
              "      <td>1</td>\n",
              "      <td>0</td>\n",
              "      <td>sales</td>\n",
              "      <td>low</td>\n",
              "    </tr>\n",
              "    <tr>\n",
              "      <th>1</th>\n",
              "      <td>0.80</td>\n",
              "      <td>0.86</td>\n",
              "      <td>5</td>\n",
              "      <td>262</td>\n",
              "      <td>6</td>\n",
              "      <td>0</td>\n",
              "      <td>1</td>\n",
              "      <td>0</td>\n",
              "      <td>sales</td>\n",
              "      <td>medium</td>\n",
              "    </tr>\n",
              "    <tr>\n",
              "      <th>2</th>\n",
              "      <td>0.11</td>\n",
              "      <td>0.88</td>\n",
              "      <td>7</td>\n",
              "      <td>272</td>\n",
              "      <td>4</td>\n",
              "      <td>0</td>\n",
              "      <td>1</td>\n",
              "      <td>0</td>\n",
              "      <td>sales</td>\n",
              "      <td>medium</td>\n",
              "    </tr>\n",
              "    <tr>\n",
              "      <th>3</th>\n",
              "      <td>0.72</td>\n",
              "      <td>0.87</td>\n",
              "      <td>5</td>\n",
              "      <td>223</td>\n",
              "      <td>5</td>\n",
              "      <td>0</td>\n",
              "      <td>1</td>\n",
              "      <td>0</td>\n",
              "      <td>sales</td>\n",
              "      <td>low</td>\n",
              "    </tr>\n",
              "    <tr>\n",
              "      <th>4</th>\n",
              "      <td>0.37</td>\n",
              "      <td>0.52</td>\n",
              "      <td>2</td>\n",
              "      <td>159</td>\n",
              "      <td>3</td>\n",
              "      <td>0</td>\n",
              "      <td>1</td>\n",
              "      <td>0</td>\n",
              "      <td>sales</td>\n",
              "      <td>low</td>\n",
              "    </tr>\n",
              "  </tbody>\n",
              "</table>\n",
              "</div>\n",
              "      <button class=\"colab-df-convert\" onclick=\"convertToInteractive('df-1be7455d-d31a-467d-89fc-d77df28374ad')\"\n",
              "              title=\"Convert this dataframe to an interactive table.\"\n",
              "              style=\"display:none;\">\n",
              "        \n",
              "  <svg xmlns=\"http://www.w3.org/2000/svg\" height=\"24px\"viewBox=\"0 0 24 24\"\n",
              "       width=\"24px\">\n",
              "    <path d=\"M0 0h24v24H0V0z\" fill=\"none\"/>\n",
              "    <path d=\"M18.56 5.44l.94 2.06.94-2.06 2.06-.94-2.06-.94-.94-2.06-.94 2.06-2.06.94zm-11 1L8.5 8.5l.94-2.06 2.06-.94-2.06-.94L8.5 2.5l-.94 2.06-2.06.94zm10 10l.94 2.06.94-2.06 2.06-.94-2.06-.94-.94-2.06-.94 2.06-2.06.94z\"/><path d=\"M17.41 7.96l-1.37-1.37c-.4-.4-.92-.59-1.43-.59-.52 0-1.04.2-1.43.59L10.3 9.45l-7.72 7.72c-.78.78-.78 2.05 0 2.83L4 21.41c.39.39.9.59 1.41.59.51 0 1.02-.2 1.41-.59l7.78-7.78 2.81-2.81c.8-.78.8-2.07 0-2.86zM5.41 20L4 18.59l7.72-7.72 1.47 1.35L5.41 20z\"/>\n",
              "  </svg>\n",
              "      </button>\n",
              "      \n",
              "  <style>\n",
              "    .colab-df-container {\n",
              "      display:flex;\n",
              "      flex-wrap:wrap;\n",
              "      gap: 12px;\n",
              "    }\n",
              "\n",
              "    .colab-df-convert {\n",
              "      background-color: #E8F0FE;\n",
              "      border: none;\n",
              "      border-radius: 50%;\n",
              "      cursor: pointer;\n",
              "      display: none;\n",
              "      fill: #1967D2;\n",
              "      height: 32px;\n",
              "      padding: 0 0 0 0;\n",
              "      width: 32px;\n",
              "    }\n",
              "\n",
              "    .colab-df-convert:hover {\n",
              "      background-color: #E2EBFA;\n",
              "      box-shadow: 0px 1px 2px rgba(60, 64, 67, 0.3), 0px 1px 3px 1px rgba(60, 64, 67, 0.15);\n",
              "      fill: #174EA6;\n",
              "    }\n",
              "\n",
              "    [theme=dark] .colab-df-convert {\n",
              "      background-color: #3B4455;\n",
              "      fill: #D2E3FC;\n",
              "    }\n",
              "\n",
              "    [theme=dark] .colab-df-convert:hover {\n",
              "      background-color: #434B5C;\n",
              "      box-shadow: 0px 1px 3px 1px rgba(0, 0, 0, 0.15);\n",
              "      filter: drop-shadow(0px 1px 2px rgba(0, 0, 0, 0.3));\n",
              "      fill: #FFFFFF;\n",
              "    }\n",
              "  </style>\n",
              "\n",
              "      <script>\n",
              "        const buttonEl =\n",
              "          document.querySelector('#df-1be7455d-d31a-467d-89fc-d77df28374ad button.colab-df-convert');\n",
              "        buttonEl.style.display =\n",
              "          google.colab.kernel.accessAllowed ? 'block' : 'none';\n",
              "\n",
              "        async function convertToInteractive(key) {\n",
              "          const element = document.querySelector('#df-1be7455d-d31a-467d-89fc-d77df28374ad');\n",
              "          const dataTable =\n",
              "            await google.colab.kernel.invokeFunction('convertToInteractive',\n",
              "                                                     [key], {});\n",
              "          if (!dataTable) return;\n",
              "\n",
              "          const docLinkHtml = 'Like what you see? Visit the ' +\n",
              "            '<a target=\"_blank\" href=https://colab.research.google.com/notebooks/data_table.ipynb>data table notebook</a>'\n",
              "            + ' to learn more about interactive tables.';\n",
              "          element.innerHTML = '';\n",
              "          dataTable['output_type'] = 'display_data';\n",
              "          await google.colab.output.renderOutput(dataTable, element);\n",
              "          const docLink = document.createElement('div');\n",
              "          docLink.innerHTML = docLinkHtml;\n",
              "          element.appendChild(docLink);\n",
              "        }\n",
              "      </script>\n",
              "    </div>\n",
              "  </div>\n",
              "  "
            ]
          },
          "metadata": {},
          "execution_count": 3
        }
      ]
    },
    {
      "cell_type": "code",
      "source": [
        "df.info()"
      ],
      "metadata": {
        "colab": {
          "base_uri": "https://localhost:8080/"
        },
        "id": "A7GCoah7S7Ub",
        "outputId": "e5d1356b-c9bd-4f88-bd43-a202b26843c9"
      },
      "execution_count": null,
      "outputs": [
        {
          "output_type": "stream",
          "name": "stdout",
          "text": [
            "<class 'pandas.core.frame.DataFrame'>\n",
            "RangeIndex: 14999 entries, 0 to 14998\n",
            "Data columns (total 10 columns):\n",
            " #   Column                 Non-Null Count  Dtype  \n",
            "---  ------                 --------------  -----  \n",
            " 0   satisfaction_level     14999 non-null  float64\n",
            " 1   last_evaluation        14999 non-null  float64\n",
            " 2   number_project         14999 non-null  int64  \n",
            " 3   average_montly_hours   14999 non-null  int64  \n",
            " 4   time_spend_company     14999 non-null  int64  \n",
            " 5   Work_accident          14999 non-null  int64  \n",
            " 6   left                   14999 non-null  int64  \n",
            " 7   promotion_last_5years  14999 non-null  int64  \n",
            " 8   Department             14999 non-null  object \n",
            " 9   salary                 14999 non-null  object \n",
            "dtypes: float64(2), int64(6), object(2)\n",
            "memory usage: 1.1+ MB\n"
          ]
        }
      ]
    },
    {
      "cell_type": "code",
      "source": [
        "df.nunique()"
      ],
      "metadata": {
        "colab": {
          "base_uri": "https://localhost:8080/"
        },
        "id": "MU7RpdNgvWi1",
        "outputId": "c40f10a9-4713-4cc0-be66-b353de166127"
      },
      "execution_count": null,
      "outputs": [
        {
          "output_type": "execute_result",
          "data": {
            "text/plain": [
              "satisfaction_level        92\n",
              "last_evaluation           65\n",
              "number_project             6\n",
              "average_montly_hours     215\n",
              "time_spend_company         8\n",
              "Work_accident              2\n",
              "left                       2\n",
              "promotion_last_5years      2\n",
              "Department                10\n",
              "salary                     3\n",
              "dtype: int64"
            ]
          },
          "metadata": {},
          "execution_count": 18
        }
      ]
    },
    {
      "cell_type": "code",
      "source": [
        "df.isna().sum()"
      ],
      "metadata": {
        "id": "CIduvY8rxkKw"
      },
      "execution_count": null,
      "outputs": []
    },
    {
      "cell_type": "code",
      "source": [
        "df.describe()"
      ],
      "metadata": {
        "colab": {
          "base_uri": "https://localhost:8080/",
          "height": 344
        },
        "id": "5Nkqwh0XS-Mo",
        "outputId": "aa5389d5-2037-4107-e46a-df29fd58f959"
      },
      "execution_count": null,
      "outputs": [
        {
          "output_type": "execute_result",
          "data": {
            "text/plain": [
              "       satisfaction_level  last_evaluation  number_project  \\\n",
              "count        14999.000000     14999.000000    14999.000000   \n",
              "mean             0.612834         0.716102        3.803054   \n",
              "std              0.248631         0.171169        1.232592   \n",
              "min              0.090000         0.360000        2.000000   \n",
              "25%              0.440000         0.560000        3.000000   \n",
              "50%              0.640000         0.720000        4.000000   \n",
              "75%              0.820000         0.870000        5.000000   \n",
              "max              1.000000         1.000000        7.000000   \n",
              "\n",
              "       average_montly_hours  time_spend_company  Work_accident          left  \\\n",
              "count          14999.000000        14999.000000   14999.000000  14999.000000   \n",
              "mean             201.050337            3.498233       0.144610      0.238083   \n",
              "std               49.943099            1.460136       0.351719      0.425924   \n",
              "min               96.000000            2.000000       0.000000      0.000000   \n",
              "25%              156.000000            3.000000       0.000000      0.000000   \n",
              "50%              200.000000            3.000000       0.000000      0.000000   \n",
              "75%              245.000000            4.000000       0.000000      0.000000   \n",
              "max              310.000000           10.000000       1.000000      1.000000   \n",
              "\n",
              "       promotion_last_5years  \n",
              "count           14999.000000  \n",
              "mean                0.021268  \n",
              "std                 0.144281  \n",
              "min                 0.000000  \n",
              "25%                 0.000000  \n",
              "50%                 0.000000  \n",
              "75%                 0.000000  \n",
              "max                 1.000000  "
            ],
            "text/html": [
              "\n",
              "  <div id=\"df-48e52860-23b7-4c1d-ad47-69af6d4d40f5\">\n",
              "    <div class=\"colab-df-container\">\n",
              "      <div>\n",
              "<style scoped>\n",
              "    .dataframe tbody tr th:only-of-type {\n",
              "        vertical-align: middle;\n",
              "    }\n",
              "\n",
              "    .dataframe tbody tr th {\n",
              "        vertical-align: top;\n",
              "    }\n",
              "\n",
              "    .dataframe thead th {\n",
              "        text-align: right;\n",
              "    }\n",
              "</style>\n",
              "<table border=\"1\" class=\"dataframe\">\n",
              "  <thead>\n",
              "    <tr style=\"text-align: right;\">\n",
              "      <th></th>\n",
              "      <th>satisfaction_level</th>\n",
              "      <th>last_evaluation</th>\n",
              "      <th>number_project</th>\n",
              "      <th>average_montly_hours</th>\n",
              "      <th>time_spend_company</th>\n",
              "      <th>Work_accident</th>\n",
              "      <th>left</th>\n",
              "      <th>promotion_last_5years</th>\n",
              "    </tr>\n",
              "  </thead>\n",
              "  <tbody>\n",
              "    <tr>\n",
              "      <th>count</th>\n",
              "      <td>14999.000000</td>\n",
              "      <td>14999.000000</td>\n",
              "      <td>14999.000000</td>\n",
              "      <td>14999.000000</td>\n",
              "      <td>14999.000000</td>\n",
              "      <td>14999.000000</td>\n",
              "      <td>14999.000000</td>\n",
              "      <td>14999.000000</td>\n",
              "    </tr>\n",
              "    <tr>\n",
              "      <th>mean</th>\n",
              "      <td>0.612834</td>\n",
              "      <td>0.716102</td>\n",
              "      <td>3.803054</td>\n",
              "      <td>201.050337</td>\n",
              "      <td>3.498233</td>\n",
              "      <td>0.144610</td>\n",
              "      <td>0.238083</td>\n",
              "      <td>0.021268</td>\n",
              "    </tr>\n",
              "    <tr>\n",
              "      <th>std</th>\n",
              "      <td>0.248631</td>\n",
              "      <td>0.171169</td>\n",
              "      <td>1.232592</td>\n",
              "      <td>49.943099</td>\n",
              "      <td>1.460136</td>\n",
              "      <td>0.351719</td>\n",
              "      <td>0.425924</td>\n",
              "      <td>0.144281</td>\n",
              "    </tr>\n",
              "    <tr>\n",
              "      <th>min</th>\n",
              "      <td>0.090000</td>\n",
              "      <td>0.360000</td>\n",
              "      <td>2.000000</td>\n",
              "      <td>96.000000</td>\n",
              "      <td>2.000000</td>\n",
              "      <td>0.000000</td>\n",
              "      <td>0.000000</td>\n",
              "      <td>0.000000</td>\n",
              "    </tr>\n",
              "    <tr>\n",
              "      <th>25%</th>\n",
              "      <td>0.440000</td>\n",
              "      <td>0.560000</td>\n",
              "      <td>3.000000</td>\n",
              "      <td>156.000000</td>\n",
              "      <td>3.000000</td>\n",
              "      <td>0.000000</td>\n",
              "      <td>0.000000</td>\n",
              "      <td>0.000000</td>\n",
              "    </tr>\n",
              "    <tr>\n",
              "      <th>50%</th>\n",
              "      <td>0.640000</td>\n",
              "      <td>0.720000</td>\n",
              "      <td>4.000000</td>\n",
              "      <td>200.000000</td>\n",
              "      <td>3.000000</td>\n",
              "      <td>0.000000</td>\n",
              "      <td>0.000000</td>\n",
              "      <td>0.000000</td>\n",
              "    </tr>\n",
              "    <tr>\n",
              "      <th>75%</th>\n",
              "      <td>0.820000</td>\n",
              "      <td>0.870000</td>\n",
              "      <td>5.000000</td>\n",
              "      <td>245.000000</td>\n",
              "      <td>4.000000</td>\n",
              "      <td>0.000000</td>\n",
              "      <td>0.000000</td>\n",
              "      <td>0.000000</td>\n",
              "    </tr>\n",
              "    <tr>\n",
              "      <th>max</th>\n",
              "      <td>1.000000</td>\n",
              "      <td>1.000000</td>\n",
              "      <td>7.000000</td>\n",
              "      <td>310.000000</td>\n",
              "      <td>10.000000</td>\n",
              "      <td>1.000000</td>\n",
              "      <td>1.000000</td>\n",
              "      <td>1.000000</td>\n",
              "    </tr>\n",
              "  </tbody>\n",
              "</table>\n",
              "</div>\n",
              "      <button class=\"colab-df-convert\" onclick=\"convertToInteractive('df-48e52860-23b7-4c1d-ad47-69af6d4d40f5')\"\n",
              "              title=\"Convert this dataframe to an interactive table.\"\n",
              "              style=\"display:none;\">\n",
              "        \n",
              "  <svg xmlns=\"http://www.w3.org/2000/svg\" height=\"24px\"viewBox=\"0 0 24 24\"\n",
              "       width=\"24px\">\n",
              "    <path d=\"M0 0h24v24H0V0z\" fill=\"none\"/>\n",
              "    <path d=\"M18.56 5.44l.94 2.06.94-2.06 2.06-.94-2.06-.94-.94-2.06-.94 2.06-2.06.94zm-11 1L8.5 8.5l.94-2.06 2.06-.94-2.06-.94L8.5 2.5l-.94 2.06-2.06.94zm10 10l.94 2.06.94-2.06 2.06-.94-2.06-.94-.94-2.06-.94 2.06-2.06.94z\"/><path d=\"M17.41 7.96l-1.37-1.37c-.4-.4-.92-.59-1.43-.59-.52 0-1.04.2-1.43.59L10.3 9.45l-7.72 7.72c-.78.78-.78 2.05 0 2.83L4 21.41c.39.39.9.59 1.41.59.51 0 1.02-.2 1.41-.59l7.78-7.78 2.81-2.81c.8-.78.8-2.07 0-2.86zM5.41 20L4 18.59l7.72-7.72 1.47 1.35L5.41 20z\"/>\n",
              "  </svg>\n",
              "      </button>\n",
              "      \n",
              "  <style>\n",
              "    .colab-df-container {\n",
              "      display:flex;\n",
              "      flex-wrap:wrap;\n",
              "      gap: 12px;\n",
              "    }\n",
              "\n",
              "    .colab-df-convert {\n",
              "      background-color: #E8F0FE;\n",
              "      border: none;\n",
              "      border-radius: 50%;\n",
              "      cursor: pointer;\n",
              "      display: none;\n",
              "      fill: #1967D2;\n",
              "      height: 32px;\n",
              "      padding: 0 0 0 0;\n",
              "      width: 32px;\n",
              "    }\n",
              "\n",
              "    .colab-df-convert:hover {\n",
              "      background-color: #E2EBFA;\n",
              "      box-shadow: 0px 1px 2px rgba(60, 64, 67, 0.3), 0px 1px 3px 1px rgba(60, 64, 67, 0.15);\n",
              "      fill: #174EA6;\n",
              "    }\n",
              "\n",
              "    [theme=dark] .colab-df-convert {\n",
              "      background-color: #3B4455;\n",
              "      fill: #D2E3FC;\n",
              "    }\n",
              "\n",
              "    [theme=dark] .colab-df-convert:hover {\n",
              "      background-color: #434B5C;\n",
              "      box-shadow: 0px 1px 3px 1px rgba(0, 0, 0, 0.15);\n",
              "      filter: drop-shadow(0px 1px 2px rgba(0, 0, 0, 0.3));\n",
              "      fill: #FFFFFF;\n",
              "    }\n",
              "  </style>\n",
              "\n",
              "      <script>\n",
              "        const buttonEl =\n",
              "          document.querySelector('#df-48e52860-23b7-4c1d-ad47-69af6d4d40f5 button.colab-df-convert');\n",
              "        buttonEl.style.display =\n",
              "          google.colab.kernel.accessAllowed ? 'block' : 'none';\n",
              "\n",
              "        async function convertToInteractive(key) {\n",
              "          const element = document.querySelector('#df-48e52860-23b7-4c1d-ad47-69af6d4d40f5');\n",
              "          const dataTable =\n",
              "            await google.colab.kernel.invokeFunction('convertToInteractive',\n",
              "                                                     [key], {});\n",
              "          if (!dataTable) return;\n",
              "\n",
              "          const docLinkHtml = 'Like what you see? Visit the ' +\n",
              "            '<a target=\"_blank\" href=https://colab.research.google.com/notebooks/data_table.ipynb>data table notebook</a>'\n",
              "            + ' to learn more about interactive tables.';\n",
              "          element.innerHTML = '';\n",
              "          dataTable['output_type'] = 'display_data';\n",
              "          await google.colab.output.renderOutput(dataTable, element);\n",
              "          const docLink = document.createElement('div');\n",
              "          docLink.innerHTML = docLinkHtml;\n",
              "          element.appendChild(docLink);\n",
              "        }\n",
              "      </script>\n",
              "    </div>\n",
              "  </div>\n",
              "  "
            ]
          },
          "metadata": {},
          "execution_count": 7
        }
      ]
    },
    {
      "cell_type": "markdown",
      "source": [
        "## Visualizing some information about the features"
      ],
      "metadata": {
        "id": "aZL-2p3jyamp"
      }
    },
    {
      "cell_type": "markdown",
      "source": [
        "How much time the employees stay in the company?"
      ],
      "metadata": {
        "id": "7eZMDY7lB7eP"
      }
    },
    {
      "cell_type": "code",
      "source": [
        "print(f'In mean the employees stay just {df[\"time_spend_company\"].mean():.2f} years in the compay.')"
      ],
      "metadata": {
        "colab": {
          "base_uri": "https://localhost:8080/"
        },
        "id": "-vsWT_S9-Mqs",
        "outputId": "f9ad9227-b126-464f-bb44-c692cc5a13db"
      },
      "execution_count": null,
      "outputs": [
        {
          "output_type": "stream",
          "name": "stdout",
          "text": [
            "In mean the employees stay just 3.50 years in the compay.\n"
          ]
        }
      ]
    },
    {
      "cell_type": "code",
      "source": [
        "plt.figure(figsize=(12,5))\n",
        "sns.distplot(df['time_spend_company'], kde=False, color='b', axlabel='Years spend in the company')"
      ],
      "metadata": {
        "colab": {
          "base_uri": "https://localhost:8080/",
          "height": 352
        },
        "id": "B-npJBpa9H9F",
        "outputId": "31094bee-23be-489f-b761-6873c9694afb"
      },
      "execution_count": null,
      "outputs": [
        {
          "output_type": "execute_result",
          "data": {
            "text/plain": [
              "<matplotlib.axes._subplots.AxesSubplot at 0x7f59da468150>"
            ]
          },
          "metadata": {},
          "execution_count": 4
        },
        {
          "output_type": "display_data",
          "data": {
            "text/plain": [
              "<Figure size 864x360 with 1 Axes>"
            ],
            "image/png": "[encoded data removed]"
          },
          "metadata": {
            "needs_background": "light"
          }
        }
      ]
    },
    {
      "cell_type": "markdown",
      "source": [
        "What about the satisfaction level?"
      ],
      "metadata": {
        "id": "I5a_D6RjB_yJ"
      }
    },
    {
      "cell_type": "code",
      "source": [
        "print(f'In median {df[\"satisfaction_level\"].median()*100:.2f}% of the employees are satisfied with the company.')"
      ],
      "metadata": {
        "colab": {
          "base_uri": "https://localhost:8080/"
        },
        "id": "6_smRm8b-JiH",
        "outputId": "2c35f217-0644-4bec-f2c0-0aecf6d576c3"
      },
      "execution_count": null,
      "outputs": [
        {
          "output_type": "stream",
          "name": "stdout",
          "text": [
            "In median 64.00% of the employees are satisfied with the company.\n"
          ]
        }
      ]
    },
    {
      "cell_type": "code",
      "source": [
        "plt.figure(figsize=(12,5))\n",
        "sns.distplot(df['satisfaction_level'],kde=False, color='b', axlabel='Satisfaction level')"
      ],
      "metadata": {
        "colab": {
          "base_uri": "https://localhost:8080/",
          "height": 352
        },
        "id": "5NmsaWeH96pW",
        "outputId": "aca62b4e-5f40-4407-e7cd-1a03eb654609"
      },
      "execution_count": null,
      "outputs": [
        {
          "output_type": "execute_result",
          "data": {
            "text/plain": [
              "<matplotlib.axes._subplots.AxesSubplot at 0x7f59c2d43bd0>"
            ]
          },
          "metadata": {},
          "execution_count": 7
        },
        {
          "output_type": "display_data",
          "data": {
            "text/plain": [
              "<Figure size 864x360 with 1 Axes>"
            ],
            "image/png": "[encoded data removed]"
          },
          "metadata": {
            "needs_background": "light"
          }
        }
      ]
    },
    {
      "cell_type": "markdown",
      "source": [
        "Average montly hours worked in this company"
      ],
      "metadata": {
        "id": "yYOmonrtCEFr"
      }
    },
    {
      "cell_type": "code",
      "source": [
        "plt.figure(figsize=(12,5))\n",
        "sns.distplot(df['average_montly_hours'],kde=False, color=\"b\", axlabel='Average montly hours')"
      ],
      "metadata": {
        "colab": {
          "base_uri": "https://localhost:8080/",
          "height": 352
        },
        "id": "MY5M_Heuz64q",
        "outputId": "de3341d4-d61b-4b1a-816d-0250caa2c703"
      },
      "execution_count": null,
      "outputs": [
        {
          "output_type": "execute_result",
          "data": {
            "text/plain": [
              "<matplotlib.axes._subplots.AxesSubplot at 0x7f59c2c2ead0>"
            ]
          },
          "metadata": {},
          "execution_count": 9
        },
        {
          "output_type": "display_data",
          "data": {
            "text/plain": [
              "<Figure size 864x360 with 1 Axes>"
            ],
            "image/png": "[encoded data removed]"
          },
          "metadata": {
            "needs_background": "light"
          }
        }
      ]
    },
    {
      "cell_type": "code",
      "source": [
        "#How many emplooyes the compay have by department\n",
        "df['Department'].value_counts()"
      ],
      "metadata": {
        "colab": {
          "base_uri": "https://localhost:8080/"
        },
        "id": "wcBdgxI4xWLV",
        "outputId": "b3798f83-3fba-459b-8f59-3eda47cc6908"
      },
      "execution_count": null,
      "outputs": [
        {
          "output_type": "execute_result",
          "data": {
            "text/plain": [
              "sales          4140\n",
              "technical      2720\n",
              "support        2229\n",
              "IT             1227\n",
              "product_mng     902\n",
              "marketing       858\n",
              "RandD           787\n",
              "accounting      767\n",
              "hr              739\n",
              "management      630\n",
              "Name: Department, dtype: int64"
            ]
          },
          "metadata": {},
          "execution_count": 10
        }
      ]
    },
    {
      "cell_type": "markdown",
      "source": [
        "## Using seaborn countplot and pandas groupby method"
      ],
      "metadata": {
        "id": "IQTeacid7r_W"
      }
    },
    {
      "cell_type": "markdown",
      "source": [
        "Lowest and highest salary by department"
      ],
      "metadata": {
        "id": "-R77wXJMzGsU"
      }
    },
    {
      "cell_type": "code",
      "source": [
        "df['salary'].value_counts()"
      ],
      "metadata": {
        "colab": {
          "base_uri": "https://localhost:8080/"
        },
        "id": "fDiei6Q7x_RJ",
        "outputId": "c8ada820-69fc-48e6-d425-d27bec52cc5d"
      },
      "execution_count": null,
      "outputs": [
        {
          "output_type": "execute_result",
          "data": {
            "text/plain": [
              "low       7316\n",
              "medium    6446\n",
              "high      1237\n",
              "Name: salary, dtype: int64"
            ]
          },
          "metadata": {},
          "execution_count": 11
        }
      ]
    },
    {
      "cell_type": "code",
      "source": [
        "plt.figure(figsize=(12,5))\n",
        "sns.set_theme(style=\"whitegrid\")\n",
        "sns.countplot(x='Department', hue='salary', data=df)\n",
        "plt.xticks(rotation=35)\n",
        "plt.show()"
      ],
      "metadata": {
        "colab": {
          "base_uri": "https://localhost:8080/",
          "height": 380
        },
        "id": "LGyzPrFjy5U3",
        "outputId": "e3810558-2116-4552-8285-6ff0cbb2dad5"
      },
      "execution_count": null,
      "outputs": [
        {
          "output_type": "display_data",
          "data": {
            "text/plain": [
              "<Figure size 864x360 with 1 Axes>"
            ],
            "image/png": "[encoded data removed]"
          },
          "metadata": {
            "needs_background": "light"
          }
        }
      ]
    },
    {
      "cell_type": "code",
      "source": [
        "salary_data = df.groupby(['Department', 'salary'])['salary'].count()\n",
        "salary_data"
      ],
      "metadata": {
        "colab": {
          "base_uri": "https://localhost:8080/"
        },
        "id": "KqzvF-87z609",
        "outputId": "21e4ebba-015b-4b1f-9d5b-95f7e9008e6e"
      },
      "execution_count": null,
      "outputs": [
        {
          "output_type": "execute_result",
          "data": {
            "text/plain": [
              "Department   salary\n",
              "IT           high        83\n",
              "             low        609\n",
              "             medium     535\n",
              "RandD        high        51\n",
              "             low        364\n",
              "             medium     372\n",
              "accounting   high        74\n",
              "             low        358\n",
              "             medium     335\n",
              "hr           high        45\n",
              "             low        335\n",
              "             medium     359\n",
              "management   high       225\n",
              "             low        180\n",
              "             medium     225\n",
              "marketing    high        80\n",
              "             low        402\n",
              "             medium     376\n",
              "product_mng  high        68\n",
              "             low        451\n",
              "             medium     383\n",
              "sales        high       269\n",
              "             low       2099\n",
              "             medium    1772\n",
              "support      high       141\n",
              "             low       1146\n",
              "             medium     942\n",
              "technical    high       201\n",
              "             low       1372\n",
              "             medium    1147\n",
              "Name: salary, dtype: int64"
            ]
          },
          "metadata": {},
          "execution_count": 13
        }
      ]
    },
    {
      "cell_type": "markdown",
      "source": [
        "How many employees left the company by department\n",
        "* 1 for those who left the company\n",
        "* 0 for those who stay in the company"
      ],
      "metadata": {
        "id": "q91RlPag7mOB"
      }
    },
    {
      "cell_type": "code",
      "source": [
        "sns.countplot(df['left'])"
      ],
      "metadata": {
        "colab": {
          "base_uri": "https://localhost:8080/",
          "height": 303
        },
        "id": "QDIjLUfg8OpB",
        "outputId": "8cffc25b-ad56-4c3a-c79c-c61195d861f4"
      },
      "execution_count": null,
      "outputs": [
        {
          "output_type": "execute_result",
          "data": {
            "text/plain": [
              "<matplotlib.axes._subplots.AxesSubplot at 0x7f59c2b0f2d0>"
            ]
          },
          "metadata": {},
          "execution_count": 14
        },
        {
          "output_type": "display_data",
          "data": {
            "text/plain": [
              "<Figure size 432x288 with 1 Axes>"
            ],
            "image/png": "[encoded data removed]"
          },
          "metadata": {}
        }
      ]
    },
    {
      "cell_type": "markdown",
      "source": [
        "By department"
      ],
      "metadata": {
        "id": "ICDRAZHuicMR"
      }
    },
    {
      "cell_type": "code",
      "source": [
        "plt.figure(figsize=(12,5))\n",
        "sns.set_theme(style=\"whitegrid\")\n",
        "sns.countplot(x='Department', hue='left', data=df)\n",
        "plt.xticks(rotation=35)\n",
        "plt.show()"
      ],
      "metadata": {
        "colab": {
          "base_uri": "https://localhost:8080/",
          "height": 380
        },
        "id": "hibIiCXs2RtC",
        "outputId": "17ac0828-5733-4769-90db-47774449b238"
      },
      "execution_count": null,
      "outputs": [
        {
          "output_type": "display_data",
          "data": {
            "text/plain": [
              "<Figure size 864x360 with 1 Axes>"
            ],
            "image/png": "[encoded data removed]"
          },
          "metadata": {}
        }
      ]
    },
    {
      "cell_type": "code",
      "source": [
        "left_data = df.groupby(['Department', 'left'])['left'].count()\n",
        "left_data"
      ],
      "metadata": {
        "colab": {
          "base_uri": "https://localhost:8080/"
        },
        "id": "XzBWJQcM2Rw2",
        "outputId": "330134c8-70ca-469d-de8a-f19b8484058f"
      },
      "execution_count": null,
      "outputs": [
        {
          "output_type": "execute_result",
          "data": {
            "text/plain": [
              "Department   left\n",
              "IT           0        954\n",
              "             1        273\n",
              "RandD        0        666\n",
              "             1        121\n",
              "accounting   0        563\n",
              "             1        204\n",
              "hr           0        524\n",
              "             1        215\n",
              "management   0        539\n",
              "             1         91\n",
              "marketing    0        655\n",
              "             1        203\n",
              "product_mng  0        704\n",
              "             1        198\n",
              "sales        0       3126\n",
              "             1       1014\n",
              "support      0       1674\n",
              "             1        555\n",
              "technical    0       2023\n",
              "             1        697\n",
              "Name: left, dtype: int64"
            ]
          },
          "metadata": {},
          "execution_count": 16
        }
      ]
    },
    {
      "cell_type": "code",
      "source": [
        "left_data.unstack(level=0)"
      ],
      "metadata": {
        "colab": {
          "base_uri": "https://localhost:8080/",
          "height": 143
        },
        "id": "zdKbtRYY4Zz9",
        "outputId": "6990fe59-229a-4f03-8fe0-b13102fbb423"
      },
      "execution_count": null,
      "outputs": [
        {
          "output_type": "execute_result",
          "data": {
            "text/plain": [
              "Department   IT  RandD  accounting   hr  management  marketing  product_mng  \\\n",
              "left                                                                          \n",
              "0           954    666         563  524         539        655          704   \n",
              "1           273    121         204  215          91        203          198   \n",
              "\n",
              "Department  sales  support  technical  \n",
              "left                                   \n",
              "0            3126     1674       2023  \n",
              "1            1014      555        697  "
            ],
            "text/html": [
              "\n",
              "  <div id=\"df-456974cc-c52b-4c9b-bec9-1248ee544cb1\">\n",
              "    <div class=\"colab-df-container\">\n",
              "      <div>\n",
              "<style scoped>\n",
              "    .dataframe tbody tr th:only-of-type {\n",
              "        vertical-align: middle;\n",
              "    }\n",
              "\n",
              "    .dataframe tbody tr th {\n",
              "        vertical-align: top;\n",
              "    }\n",
              "\n",
              "    .dataframe thead th {\n",
              "        text-align: right;\n",
              "    }\n",
              "</style>\n",
              "<table border=\"1\" class=\"dataframe\">\n",
              "  <thead>\n",
              "    <tr style=\"text-align: right;\">\n",
              "      <th>Department</th>\n",
              "      <th>IT</th>\n",
              "      <th>RandD</th>\n",
              "      <th>accounting</th>\n",
              "      <th>hr</th>\n",
              "      <th>management</th>\n",
              "      <th>marketing</th>\n",
              "      <th>product_mng</th>\n",
              "      <th>sales</th>\n",
              "      <th>support</th>\n",
              "      <th>technical</th>\n",
              "    </tr>\n",
              "    <tr>\n",
              "      <th>left</th>\n",
              "      <th></th>\n",
              "      <th></th>\n",
              "      <th></th>\n",
              "      <th></th>\n",
              "      <th></th>\n",
              "      <th></th>\n",
              "      <th></th>\n",
              "      <th></th>\n",
              "      <th></th>\n",
              "      <th></th>\n",
              "    </tr>\n",
              "  </thead>\n",
              "  <tbody>\n",
              "    <tr>\n",
              "      <th>0</th>\n",
              "      <td>954</td>\n",
              "      <td>666</td>\n",
              "      <td>563</td>\n",
              "      <td>524</td>\n",
              "      <td>539</td>\n",
              "      <td>655</td>\n",
              "      <td>704</td>\n",
              "      <td>3126</td>\n",
              "      <td>1674</td>\n",
              "      <td>2023</td>\n",
              "    </tr>\n",
              "    <tr>\n",
              "      <th>1</th>\n",
              "      <td>273</td>\n",
              "      <td>121</td>\n",
              "      <td>204</td>\n",
              "      <td>215</td>\n",
              "      <td>91</td>\n",
              "      <td>203</td>\n",
              "      <td>198</td>\n",
              "      <td>1014</td>\n",
              "      <td>555</td>\n",
              "      <td>697</td>\n",
              "    </tr>\n",
              "  </tbody>\n",
              "</table>\n",
              "</div>\n",
              "      <button class=\"colab-df-convert\" onclick=\"convertToInteractive('df-456974cc-c52b-4c9b-bec9-1248ee544cb1')\"\n",
              "              title=\"Convert this dataframe to an interactive table.\"\n",
              "              style=\"display:none;\">\n",
              "        \n",
              "  <svg xmlns=\"http://www.w3.org/2000/svg\" height=\"24px\"viewBox=\"0 0 24 24\"\n",
              "       width=\"24px\">\n",
              "    <path d=\"M0 0h24v24H0V0z\" fill=\"none\"/>\n",
              "    <path d=\"M18.56 5.44l.94 2.06.94-2.06 2.06-.94-2.06-.94-.94-2.06-.94 2.06-2.06.94zm-11 1L8.5 8.5l.94-2.06 2.06-.94-2.06-.94L8.5 2.5l-.94 2.06-2.06.94zm10 10l.94 2.06.94-2.06 2.06-.94-2.06-.94-.94-2.06-.94 2.06-2.06.94z\"/><path d=\"M17.41 7.96l-1.37-1.37c-.4-.4-.92-.59-1.43-.59-.52 0-1.04.2-1.43.59L10.3 9.45l-7.72 7.72c-.78.78-.78 2.05 0 2.83L4 21.41c.39.39.9.59 1.41.59.51 0 1.02-.2 1.41-.59l7.78-7.78 2.81-2.81c.8-.78.8-2.07 0-2.86zM5.41 20L4 18.59l7.72-7.72 1.47 1.35L5.41 20z\"/>\n",
              "  </svg>\n",
              "      </button>\n",
              "      \n",
              "  <style>\n",
              "    .colab-df-container {\n",
              "      display:flex;\n",
              "      flex-wrap:wrap;\n",
              "      gap: 12px;\n",
              "    }\n",
              "\n",
              "    .colab-df-convert {\n",
              "      background-color: #E8F0FE;\n",
              "      border: none;\n",
              "      border-radius: 50%;\n",
              "      cursor: pointer;\n",
              "      display: none;\n",
              "      fill: #1967D2;\n",
              "      height: 32px;\n",
              "      padding: 0 0 0 0;\n",
              "      width: 32px;\n",
              "    }\n",
              "\n",
              "    .colab-df-convert:hover {\n",
              "      background-color: #E2EBFA;\n",
              "      box-shadow: 0px 1px 2px rgba(60, 64, 67, 0.3), 0px 1px 3px 1px rgba(60, 64, 67, 0.15);\n",
              "      fill: #174EA6;\n",
              "    }\n",
              "\n",
              "    [theme=dark] .colab-df-convert {\n",
              "      background-color: #3B4455;\n",
              "      fill: #D2E3FC;\n",
              "    }\n",
              "\n",
              "    [theme=dark] .colab-df-convert:hover {\n",
              "      background-color: #434B5C;\n",
              "      box-shadow: 0px 1px 3px 1px rgba(0, 0, 0, 0.15);\n",
              "      filter: drop-shadow(0px 1px 2px rgba(0, 0, 0, 0.3));\n",
              "      fill: #FFFFFF;\n",
              "    }\n",
              "  </style>\n",
              "\n",
              "      <script>\n",
              "        const buttonEl =\n",
              "          document.querySelector('#df-456974cc-c52b-4c9b-bec9-1248ee544cb1 button.colab-df-convert');\n",
              "        buttonEl.style.display =\n",
              "          google.colab.kernel.accessAllowed ? 'block' : 'none';\n",
              "\n",
              "        async function convertToInteractive(key) {\n",
              "          const element = document.querySelector('#df-456974cc-c52b-4c9b-bec9-1248ee544cb1');\n",
              "          const dataTable =\n",
              "            await google.colab.kernel.invokeFunction('convertToInteractive',\n",
              "                                                     [key], {});\n",
              "          if (!dataTable) return;\n",
              "\n",
              "          const docLinkHtml = 'Like what you see? Visit the ' +\n",
              "            '<a target=\"_blank\" href=https://colab.research.google.com/notebooks/data_table.ipynb>data table notebook</a>'\n",
              "            + ' to learn more about interactive tables.';\n",
              "          element.innerHTML = '';\n",
              "          dataTable['output_type'] = 'display_data';\n",
              "          await google.colab.output.renderOutput(dataTable, element);\n",
              "          const docLink = document.createElement('div');\n",
              "          docLink.innerHTML = docLinkHtml;\n",
              "          element.appendChild(docLink);\n",
              "        }\n",
              "      </script>\n",
              "    </div>\n",
              "  </div>\n",
              "  "
            ]
          },
          "metadata": {},
          "execution_count": 17
        }
      ]
    },
    {
      "cell_type": "markdown",
      "source": [
        "Why are employees leaving the company?"
      ],
      "metadata": {
        "id": "F8A4TcAb_NVP"
      }
    },
    {
      "cell_type": "markdown",
      "source": [
        "A small portion of people who earned high salaries left the company, the largest number of people who left the company received low salaries.\n"
      ],
      "metadata": {
        "id": "1Eq3WcppilMG"
      }
    },
    {
      "cell_type": "code",
      "source": [
        "df.groupby(['salary', 'left'])['left'].count()"
      ],
      "metadata": {
        "colab": {
          "base_uri": "https://localhost:8080/"
        },
        "id": "5tR0jukB9CCY",
        "outputId": "40f3c1f7-a6b2-4efe-db55-90f619a295d9"
      },
      "execution_count": null,
      "outputs": [
        {
          "output_type": "execute_result",
          "data": {
            "text/plain": [
              "salary  left\n",
              "high    0       1155\n",
              "        1         82\n",
              "low     0       5144\n",
              "        1       2172\n",
              "medium  0       5129\n",
              "        1       1317\n",
              "Name: left, dtype: int64"
            ]
          },
          "metadata": {},
          "execution_count": 20
        }
      ]
    },
    {
      "cell_type": "code",
      "source": [
        "sns.countplot(x='salary', hue='left',data=df)"
      ],
      "metadata": {
        "colab": {
          "base_uri": "https://localhost:8080/",
          "height": 303
        },
        "id": "agp15_A1_Oqe",
        "outputId": "db817221-943a-4b7f-a238-e3925d3cef19"
      },
      "execution_count": null,
      "outputs": [
        {
          "output_type": "execute_result",
          "data": {
            "text/plain": [
              "<matplotlib.axes._subplots.AxesSubplot at 0x7f59c28eded0>"
            ]
          },
          "metadata": {},
          "execution_count": 21
        },
        {
          "output_type": "display_data",
          "data": {
            "text/plain": [
              "<Figure size 432x288 with 1 Axes>"
            ],
            "image/png": "[encoded data removed]"
          },
          "metadata": {}
        }
      ]
    },
    {
      "cell_type": "markdown",
      "source": [
        "An even smaller portion who received a promotion in the last 5 years have left the company"
      ],
      "metadata": {
        "id": "ghJCSyM6i46x"
      }
    },
    {
      "cell_type": "code",
      "source": [
        "df.groupby(['promotion_last_5years', 'left'])['left'].count()"
      ],
      "metadata": {
        "colab": {
          "base_uri": "https://localhost:8080/"
        },
        "id": "3RXMmEns_OuS",
        "outputId": "4e4667fd-4802-47dc-816a-621f62066a5d"
      },
      "execution_count": null,
      "outputs": [
        {
          "output_type": "execute_result",
          "data": {
            "text/plain": [
              "promotion_last_5years  left\n",
              "0                      0       11128\n",
              "                       1        3552\n",
              "1                      0         300\n",
              "                       1          19\n",
              "Name: left, dtype: int64"
            ]
          },
          "metadata": {},
          "execution_count": 22
        }
      ]
    },
    {
      "cell_type": "code",
      "source": [
        "sns.countplot(x='promotion_last_5years', hue='left', data=df)"
      ],
      "metadata": {
        "colab": {
          "base_uri": "https://localhost:8080/",
          "height": 303
        },
        "id": "0J_lfnWa_Oxt",
        "outputId": "0532b7c8-32b9-40b7-adfc-306bf36f8a34"
      },
      "execution_count": null,
      "outputs": [
        {
          "output_type": "execute_result",
          "data": {
            "text/plain": [
              "<matplotlib.axes._subplots.AxesSubplot at 0x7f59c2866e90>"
            ]
          },
          "metadata": {},
          "execution_count": 23
        },
        {
          "output_type": "display_data",
          "data": {
            "text/plain": [
              "<Figure size 432x288 with 1 Axes>"
            ],
            "image/png": "[encoded data removed]"
          },
          "metadata": {}
        }
      ]
    },
    {
      "cell_type": "markdown",
      "source": [
        "As we can see the low wages and the lack of promotion could be a reason for employees leave the company\n"
      ],
      "metadata": {
        "id": "RIM6vr-0_t96"
      }
    },
    {
      "cell_type": "markdown",
      "source": [
        "Let's see more about the projects that each area is dealing with"
      ],
      "metadata": {
        "id": "fSRhPrDyDha3"
      }
    },
    {
      "cell_type": "code",
      "source": [
        "df.groupby('Department')['number_project'].sum()"
      ],
      "metadata": {
        "colab": {
          "base_uri": "https://localhost:8080/"
        },
        "id": "SD1ObXkBDqyT",
        "outputId": "4098cf42-57c9-431a-ccb2-775d93ffb62b"
      },
      "execution_count": null,
      "outputs": [
        {
          "output_type": "execute_result",
          "data": {
            "text/plain": [
              "Department\n",
              "IT              4683\n",
              "RandD           3033\n",
              "accounting      2934\n",
              "hr              2701\n",
              "management      2432\n",
              "marketing       3164\n",
              "product_mng     3434\n",
              "sales          15634\n",
              "support         8479\n",
              "technical      10548\n",
              "Name: number_project, dtype: int64"
            ]
          },
          "metadata": {},
          "execution_count": 24
        }
      ]
    },
    {
      "cell_type": "code",
      "source": [
        "df.groupby(['Department', 'left'])['number_project'].sum()"
      ],
      "metadata": {
        "colab": {
          "base_uri": "https://localhost:8080/"
        },
        "id": "wyi27_GDDzS7",
        "outputId": "84899d43-04f8-477d-d1da-cd76d438f9eb"
      },
      "execution_count": null,
      "outputs": [
        {
          "output_type": "execute_result",
          "data": {
            "text/plain": [
              "Department   left\n",
              "IT           0        3584\n",
              "             1        1099\n",
              "RandD        0        2546\n",
              "             1         487\n",
              "accounting   0        2144\n",
              "             1         790\n",
              "hr           0        1940\n",
              "             1         761\n",
              "management   0        2055\n",
              "             1         377\n",
              "marketing    0        2437\n",
              "             1         727\n",
              "product_mng  0        2672\n",
              "             1         762\n",
              "sales        0       11845\n",
              "             1        3789\n",
              "support      0        6334\n",
              "             1        2145\n",
              "technical    0        7717\n",
              "             1        2831\n",
              "Name: number_project, dtype: int64"
            ]
          },
          "metadata": {},
          "execution_count": 25
        }
      ]
    },
    {
      "cell_type": "markdown",
      "source": [
        "So with this information we can see for example that the majority of emplooyes who left the sales department was not maing much of the projects"
      ],
      "metadata": {
        "id": "RXxpAoK4D7b9"
      }
    },
    {
      "cell_type": "markdown",
      "source": [
        "Analysis with pivot table\n"
      ],
      "metadata": {
        "id": "KefZBYfDBqu7"
      }
    },
    {
      "cell_type": "code",
      "source": [
        "pivot = df.pivot_table(index=['Department', 'promotion_last_5years'], columns='left', aggfunc='count')\n",
        "pivot"
      ],
      "metadata": {
        "colab": {
          "base_uri": "https://localhost:8080/",
          "height": 771
        },
        "id": "fSet4xYUBuGN",
        "outputId": "7561fce1-1315-4d31-f270-869ce481e073"
      },
      "execution_count": null,
      "outputs": [
        {
          "output_type": "execute_result",
          "data": {
            "text/plain": [
              "                                  Work_accident         average_montly_hours  \\\n",
              "left                                          0       1                    0   \n",
              "Department  promotion_last_5years                                              \n",
              "IT          0                             954.0   270.0                954.0   \n",
              "            1                               NaN     3.0                  NaN   \n",
              "RandD       0                             639.0   121.0                639.0   \n",
              "            1                              27.0     NaN                 27.0   \n",
              "accounting  0                             549.0   204.0                549.0   \n",
              "            1                              14.0     NaN                 14.0   \n",
              "hr          0                             509.0   215.0                509.0   \n",
              "            1                              15.0     NaN                 15.0   \n",
              "management  0                             473.0    88.0                473.0   \n",
              "            1                              66.0     3.0                 66.0   \n",
              "marketing   0                             612.0   203.0                612.0   \n",
              "            1                              43.0     NaN                 43.0   \n",
              "product_mng 0                             704.0   198.0                704.0   \n",
              "sales       0                            3033.0  1007.0               3033.0   \n",
              "            1                              93.0     7.0                 93.0   \n",
              "support     0                            1657.0   552.0               1657.0   \n",
              "            1                              17.0     3.0                 17.0   \n",
              "technical   0                            1998.0   694.0               1998.0   \n",
              "            1                              25.0     3.0                 25.0   \n",
              "\n",
              "                                          last_evaluation          \\\n",
              "left                                    1               0       1   \n",
              "Department  promotion_last_5years                                   \n",
              "IT          0                       270.0           954.0   270.0   \n",
              "            1                         3.0             NaN     3.0   \n",
              "RandD       0                       121.0           639.0   121.0   \n",
              "            1                         NaN            27.0     NaN   \n",
              "accounting  0                       204.0           549.0   204.0   \n",
              "            1                         NaN            14.0     NaN   \n",
              "hr          0                       215.0           509.0   215.0   \n",
              "            1                         NaN            15.0     NaN   \n",
              "management  0                        88.0           473.0    88.0   \n",
              "            1                         3.0            66.0     3.0   \n",
              "marketing   0                       203.0           612.0   203.0   \n",
              "            1                         NaN            43.0     NaN   \n",
              "product_mng 0                       198.0           704.0   198.0   \n",
              "sales       0                      1007.0          3033.0  1007.0   \n",
              "            1                         7.0            93.0     7.0   \n",
              "support     0                       552.0          1657.0   552.0   \n",
              "            1                         3.0            17.0     3.0   \n",
              "technical   0                       694.0          1998.0   694.0   \n",
              "            1                         3.0            25.0     3.0   \n",
              "\n",
              "                                  number_project          salary          \\\n",
              "left                                           0       1       0       1   \n",
              "Department  promotion_last_5years                                          \n",
              "IT          0                              954.0   270.0   954.0   270.0   \n",
              "            1                                NaN     3.0     NaN     3.0   \n",
              "RandD       0                              639.0   121.0   639.0   121.0   \n",
              "            1                               27.0     NaN    27.0     NaN   \n",
              "accounting  0                              549.0   204.0   549.0   204.0   \n",
              "            1                               14.0     NaN    14.0     NaN   \n",
              "hr          0                              509.0   215.0   509.0   215.0   \n",
              "            1                               15.0     NaN    15.0     NaN   \n",
              "management  0                              473.0    88.0   473.0    88.0   \n",
              "            1                               66.0     3.0    66.0     3.0   \n",
              "marketing   0                              612.0   203.0   612.0   203.0   \n",
              "            1                               43.0     NaN    43.0     NaN   \n",
              "product_mng 0                              704.0   198.0   704.0   198.0   \n",
              "sales       0                             3033.0  1007.0  3033.0  1007.0   \n",
              "            1                               93.0     7.0    93.0     7.0   \n",
              "support     0                             1657.0   552.0  1657.0   552.0   \n",
              "            1                               17.0     3.0    17.0     3.0   \n",
              "technical   0                             1998.0   694.0  1998.0   694.0   \n",
              "            1                               25.0     3.0    25.0     3.0   \n",
              "\n",
              "                                  satisfaction_level          \\\n",
              "left                                               0       1   \n",
              "Department  promotion_last_5years                              \n",
              "IT          0                                  954.0   270.0   \n",
              "            1                                    NaN     3.0   \n",
              "RandD       0                                  639.0   121.0   \n",
              "            1                                   27.0     NaN   \n",
              "accounting  0                                  549.0   204.0   \n",
              "            1                                   14.0     NaN   \n",
              "hr          0                                  509.0   215.0   \n",
              "            1                                   15.0     NaN   \n",
              "management  0                                  473.0    88.0   \n",
              "            1                                   66.0     3.0   \n",
              "marketing   0                                  612.0   203.0   \n",
              "            1                                   43.0     NaN   \n",
              "product_mng 0                                  704.0   198.0   \n",
              "sales       0                                 3033.0  1007.0   \n",
              "            1                                   93.0     7.0   \n",
              "support     0                                 1657.0   552.0   \n",
              "            1                                   17.0     3.0   \n",
              "technical   0                                 1998.0   694.0   \n",
              "            1                                   25.0     3.0   \n",
              "\n",
              "                                  time_spend_company          \n",
              "left                                               0       1  \n",
              "Department  promotion_last_5years                             \n",
              "IT          0                                  954.0   270.0  \n",
              "            1                                    NaN     3.0  \n",
              "RandD       0                                  639.0   121.0  \n",
              "            1                                   27.0     NaN  \n",
              "accounting  0                                  549.0   204.0  \n",
              "            1                                   14.0     NaN  \n",
              "hr          0                                  509.0   215.0  \n",
              "            1                                   15.0     NaN  \n",
              "management  0                                  473.0    88.0  \n",
              "            1                                   66.0     3.0  \n",
              "marketing   0                                  612.0   203.0  \n",
              "            1                                   43.0     NaN  \n",
              "product_mng 0                                  704.0   198.0  \n",
              "sales       0                                 3033.0  1007.0  \n",
              "            1                                   93.0     7.0  \n",
              "support     0                                 1657.0   552.0  \n",
              "            1                                   17.0     3.0  \n",
              "technical   0                                 1998.0   694.0  \n",
              "            1                                   25.0     3.0  "
            ],
            "text/html": [
              "\n",
              "  <div id=\"df-5c4f5082-ac84-4893-bea0-ed03f8b5f3a1\">\n",
              "    <div class=\"colab-df-container\">\n",
              "      <div>\n",
              "<style scoped>\n",
              "    .dataframe tbody tr th:only-of-type {\n",
              "        vertical-align: middle;\n",
              "    }\n",
              "\n",
              "    .dataframe tbody tr th {\n",
              "        vertical-align: top;\n",
              "    }\n",
              "\n",
              "    .dataframe thead tr th {\n",
              "        text-align: left;\n",
              "    }\n",
              "\n",
              "    .dataframe thead tr:last-of-type th {\n",
              "        text-align: right;\n",
              "    }\n",
              "</style>\n",
              "<table border=\"1\" class=\"dataframe\">\n",
              "  <thead>\n",
              "    <tr>\n",
              "      <th></th>\n",
              "      <th></th>\n",
              "      <th colspan=\"2\" halign=\"left\">Work_accident</th>\n",
              "      <th colspan=\"2\" halign=\"left\">average_montly_hours</th>\n",
              "      <th colspan=\"2\" halign=\"left\">last_evaluation</th>\n",
              "      <th colspan=\"2\" halign=\"left\">number_project</th>\n",
              "      <th colspan=\"2\" halign=\"left\">salary</th>\n",
              "      <th colspan=\"2\" halign=\"left\">satisfaction_level</th>\n",
              "      <th colspan=\"2\" halign=\"left\">time_spend_company</th>\n",
              "    </tr>\n",
              "    <tr>\n",
              "      <th></th>\n",
              "      <th>left</th>\n",
              "      <th>0</th>\n",
              "      <th>1</th>\n",
              "      <th>0</th>\n",
              "      <th>1</th>\n",
              "      <th>0</th>\n",
              "      <th>1</th>\n",
              "      <th>0</th>\n",
              "      <th>1</th>\n",
              "      <th>0</th>\n",
              "      <th>1</th>\n",
              "      <th>0</th>\n",
              "      <th>1</th>\n",
              "      <th>0</th>\n",
              "      <th>1</th>\n",
              "    </tr>\n",
              "    <tr>\n",
              "      <th>Department</th>\n",
              "      <th>promotion_last_5years</th>\n",
              "      <th></th>\n",
              "      <th></th>\n",
              "      <th></th>\n",
              "      <th></th>\n",
              "      <th></th>\n",
              "      <th></th>\n",
              "      <th></th>\n",
              "      <th></th>\n",
              "      <th></th>\n",
              "      <th></th>\n",
              "      <th></th>\n",
              "      <th></th>\n",
              "      <th></th>\n",
              "      <th></th>\n",
              "    </tr>\n",
              "  </thead>\n",
              "  <tbody>\n",
              "    <tr>\n",
              "      <th rowspan=\"2\" valign=\"top\">IT</th>\n",
              "      <th>0</th>\n",
              "      <td>954.0</td>\n",
              "      <td>270.0</td>\n",
              "      <td>954.0</td>\n",
              "      <td>270.0</td>\n",
              "      <td>954.0</td>\n",
              "      <td>270.0</td>\n",
              "      <td>954.0</td>\n",
              "      <td>270.0</td>\n",
              "      <td>954.0</td>\n",
              "      <td>270.0</td>\n",
              "      <td>954.0</td>\n",
              "      <td>270.0</td>\n",
              "      <td>954.0</td>\n",
              "      <td>270.0</td>\n",
              "    </tr>\n",
              "    <tr>\n",
              "      <th>1</th>\n",
              "      <td>NaN</td>\n",
              "      <td>3.0</td>\n",
              "      <td>NaN</td>\n",
              "      <td>3.0</td>\n",
              "      <td>NaN</td>\n",
              "      <td>3.0</td>\n",
              "      <td>NaN</td>\n",
              "      <td>3.0</td>\n",
              "      <td>NaN</td>\n",
              "      <td>3.0</td>\n",
              "      <td>NaN</td>\n",
              "      <td>3.0</td>\n",
              "      <td>NaN</td>\n",
              "      <td>3.0</td>\n",
              "    </tr>\n",
              "    <tr>\n",
              "      <th rowspan=\"2\" valign=\"top\">RandD</th>\n",
              "      <th>0</th>\n",
              "      <td>639.0</td>\n",
              "      <td>121.0</td>\n",
              "      <td>639.0</td>\n",
              "      <td>121.0</td>\n",
              "      <td>639.0</td>\n",
              "      <td>121.0</td>\n",
              "      <td>639.0</td>\n",
              "      <td>121.0</td>\n",
              "      <td>639.0</td>\n",
              "      <td>121.0</td>\n",
              "      <td>639.0</td>\n",
              "      <td>121.0</td>\n",
              "      <td>639.0</td>\n",
              "      <td>121.0</td>\n",
              "    </tr>\n",
              "    <tr>\n",
              "      <th>1</th>\n",
              "      <td>27.0</td>\n",
              "      <td>NaN</td>\n",
              "      <td>27.0</td>\n",
              "      <td>NaN</td>\n",
              "      <td>27.0</td>\n",
              "      <td>NaN</td>\n",
              "      <td>27.0</td>\n",
              "      <td>NaN</td>\n",
              "      <td>27.0</td>\n",
              "      <td>NaN</td>\n",
              "      <td>27.0</td>\n",
              "      <td>NaN</td>\n",
              "      <td>27.0</td>\n",
              "      <td>NaN</td>\n",
              "    </tr>\n",
              "    <tr>\n",
              "      <th rowspan=\"2\" valign=\"top\">accounting</th>\n",
              "      <th>0</th>\n",
              "      <td>549.0</td>\n",
              "      <td>204.0</td>\n",
              "      <td>549.0</td>\n",
              "      <td>204.0</td>\n",
              "      <td>549.0</td>\n",
              "      <td>204.0</td>\n",
              "      <td>549.0</td>\n",
              "      <td>204.0</td>\n",
              "      <td>549.0</td>\n",
              "      <td>204.0</td>\n",
              "      <td>549.0</td>\n",
              "      <td>204.0</td>\n",
              "      <td>549.0</td>\n",
              "      <td>204.0</td>\n",
              "    </tr>\n",
              "    <tr>\n",
              "      <th>1</th>\n",
              "      <td>14.0</td>\n",
              "      <td>NaN</td>\n",
              "      <td>14.0</td>\n",
              "      <td>NaN</td>\n",
              "      <td>14.0</td>\n",
              "      <td>NaN</td>\n",
              "      <td>14.0</td>\n",
              "      <td>NaN</td>\n",
              "      <td>14.0</td>\n",
              "      <td>NaN</td>\n",
              "      <td>14.0</td>\n",
              "      <td>NaN</td>\n",
              "      <td>14.0</td>\n",
              "      <td>NaN</td>\n",
              "    </tr>\n",
              "    <tr>\n",
              "      <th rowspan=\"2\" valign=\"top\">hr</th>\n",
              "      <th>0</th>\n",
              "      <td>509.0</td>\n",
              "      <td>215.0</td>\n",
              "      <td>509.0</td>\n",
              "      <td>215.0</td>\n",
              "      <td>509.0</td>\n",
              "      <td>215.0</td>\n",
              "      <td>509.0</td>\n",
              "      <td>215.0</td>\n",
              "      <td>509.0</td>\n",
              "      <td>215.0</td>\n",
              "      <td>509.0</td>\n",
              "      <td>215.0</td>\n",
              "      <td>509.0</td>\n",
              "      <td>215.0</td>\n",
              "    </tr>\n",
              "    <tr>\n",
              "      <th>1</th>\n",
              "      <td>15.0</td>\n",
              "      <td>NaN</td>\n",
              "      <td>15.0</td>\n",
              "      <td>NaN</td>\n",
              "      <td>15.0</td>\n",
              "      <td>NaN</td>\n",
              "      <td>15.0</td>\n",
              "      <td>NaN</td>\n",
              "      <td>15.0</td>\n",
              "      <td>NaN</td>\n",
              "      <td>15.0</td>\n",
              "      <td>NaN</td>\n",
              "      <td>15.0</td>\n",
              "      <td>NaN</td>\n",
              "    </tr>\n",
              "    <tr>\n",
              "      <th rowspan=\"2\" valign=\"top\">management</th>\n",
              "      <th>0</th>\n",
              "      <td>473.0</td>\n",
              "      <td>88.0</td>\n",
              "      <td>473.0</td>\n",
              "      <td>88.0</td>\n",
              "      <td>473.0</td>\n",
              "      <td>88.0</td>\n",
              "      <td>473.0</td>\n",
              "      <td>88.0</td>\n",
              "      <td>473.0</td>\n",
              "      <td>88.0</td>\n",
              "      <td>473.0</td>\n",
              "      <td>88.0</td>\n",
              "      <td>473.0</td>\n",
              "      <td>88.0</td>\n",
              "    </tr>\n",
              "    <tr>\n",
              "      <th>1</th>\n",
              "      <td>66.0</td>\n",
              "      <td>3.0</td>\n",
              "      <td>66.0</td>\n",
              "      <td>3.0</td>\n",
              "      <td>66.0</td>\n",
              "      <td>3.0</td>\n",
              "      <td>66.0</td>\n",
              "      <td>3.0</td>\n",
              "      <td>66.0</td>\n",
              "      <td>3.0</td>\n",
              "      <td>66.0</td>\n",
              "      <td>3.0</td>\n",
              "      <td>66.0</td>\n",
              "      <td>3.0</td>\n",
              "    </tr>\n",
              "    <tr>\n",
              "      <th rowspan=\"2\" valign=\"top\">marketing</th>\n",
              "      <th>0</th>\n",
              "      <td>612.0</td>\n",
              "      <td>203.0</td>\n",
              "      <td>612.0</td>\n",
              "      <td>203.0</td>\n",
              "      <td>612.0</td>\n",
              "      <td>203.0</td>\n",
              "      <td>612.0</td>\n",
              "      <td>203.0</td>\n",
              "      <td>612.0</td>\n",
              "      <td>203.0</td>\n",
              "      <td>612.0</td>\n",
              "      <td>203.0</td>\n",
              "      <td>612.0</td>\n",
              "      <td>203.0</td>\n",
              "    </tr>\n",
              "    <tr>\n",
              "      <th>1</th>\n",
              "      <td>43.0</td>\n",
              "      <td>NaN</td>\n",
              "      <td>43.0</td>\n",
              "      <td>NaN</td>\n",
              "      <td>43.0</td>\n",
              "      <td>NaN</td>\n",
              "      <td>43.0</td>\n",
              "      <td>NaN</td>\n",
              "      <td>43.0</td>\n",
              "      <td>NaN</td>\n",
              "      <td>43.0</td>\n",
              "      <td>NaN</td>\n",
              "      <td>43.0</td>\n",
              "      <td>NaN</td>\n",
              "    </tr>\n",
              "    <tr>\n",
              "      <th>product_mng</th>\n",
              "      <th>0</th>\n",
              "      <td>704.0</td>\n",
              "      <td>198.0</td>\n",
              "      <td>704.0</td>\n",
              "      <td>198.0</td>\n",
              "      <td>704.0</td>\n",
              "      <td>198.0</td>\n",
              "      <td>704.0</td>\n",
              "      <td>198.0</td>\n",
              "      <td>704.0</td>\n",
              "      <td>198.0</td>\n",
              "      <td>704.0</td>\n",
              "      <td>198.0</td>\n",
              "      <td>704.0</td>\n",
              "      <td>198.0</td>\n",
              "    </tr>\n",
              "    <tr>\n",
              "      <th rowspan=\"2\" valign=\"top\">sales</th>\n",
              "      <th>0</th>\n",
              "      <td>3033.0</td>\n",
              "      <td>1007.0</td>\n",
              "      <td>3033.0</td>\n",
              "      <td>1007.0</td>\n",
              "      <td>3033.0</td>\n",
              "      <td>1007.0</td>\n",
              "      <td>3033.0</td>\n",
              "      <td>1007.0</td>\n",
              "      <td>3033.0</td>\n",
              "      <td>1007.0</td>\n",
              "      <td>3033.0</td>\n",
              "      <td>1007.0</td>\n",
              "      <td>3033.0</td>\n",
              "      <td>1007.0</td>\n",
              "    </tr>\n",
              "    <tr>\n",
              "      <th>1</th>\n",
              "      <td>93.0</td>\n",
              "      <td>7.0</td>\n",
              "      <td>93.0</td>\n",
              "      <td>7.0</td>\n",
              "      <td>93.0</td>\n",
              "      <td>7.0</td>\n",
              "      <td>93.0</td>\n",
              "      <td>7.0</td>\n",
              "      <td>93.0</td>\n",
              "      <td>7.0</td>\n",
              "      <td>93.0</td>\n",
              "      <td>7.0</td>\n",
              "      <td>93.0</td>\n",
              "      <td>7.0</td>\n",
              "    </tr>\n",
              "    <tr>\n",
              "      <th rowspan=\"2\" valign=\"top\">support</th>\n",
              "      <th>0</th>\n",
              "      <td>1657.0</td>\n",
              "      <td>552.0</td>\n",
              "      <td>1657.0</td>\n",
              "      <td>552.0</td>\n",
              "      <td>1657.0</td>\n",
              "      <td>552.0</td>\n",
              "      <td>1657.0</td>\n",
              "      <td>552.0</td>\n",
              "      <td>1657.0</td>\n",
              "      <td>552.0</td>\n",
              "      <td>1657.0</td>\n",
              "      <td>552.0</td>\n",
              "      <td>1657.0</td>\n",
              "      <td>552.0</td>\n",
              "    </tr>\n",
              "    <tr>\n",
              "      <th>1</th>\n",
              "      <td>17.0</td>\n",
              "      <td>3.0</td>\n",
              "      <td>17.0</td>\n",
              "      <td>3.0</td>\n",
              "      <td>17.0</td>\n",
              "      <td>3.0</td>\n",
              "      <td>17.0</td>\n",
              "      <td>3.0</td>\n",
              "      <td>17.0</td>\n",
              "      <td>3.0</td>\n",
              "      <td>17.0</td>\n",
              "      <td>3.0</td>\n",
              "      <td>17.0</td>\n",
              "      <td>3.0</td>\n",
              "    </tr>\n",
              "    <tr>\n",
              "      <th rowspan=\"2\" valign=\"top\">technical</th>\n",
              "      <th>0</th>\n",
              "      <td>1998.0</td>\n",
              "      <td>694.0</td>\n",
              "      <td>1998.0</td>\n",
              "      <td>694.0</td>\n",
              "      <td>1998.0</td>\n",
              "      <td>694.0</td>\n",
              "      <td>1998.0</td>\n",
              "      <td>694.0</td>\n",
              "      <td>1998.0</td>\n",
              "      <td>694.0</td>\n",
              "      <td>1998.0</td>\n",
              "      <td>694.0</td>\n",
              "      <td>1998.0</td>\n",
              "      <td>694.0</td>\n",
              "    </tr>\n",
              "    <tr>\n",
              "      <th>1</th>\n",
              "      <td>25.0</td>\n",
              "      <td>3.0</td>\n",
              "      <td>25.0</td>\n",
              "      <td>3.0</td>\n",
              "      <td>25.0</td>\n",
              "      <td>3.0</td>\n",
              "      <td>25.0</td>\n",
              "      <td>3.0</td>\n",
              "      <td>25.0</td>\n",
              "      <td>3.0</td>\n",
              "      <td>25.0</td>\n",
              "      <td>3.0</td>\n",
              "      <td>25.0</td>\n",
              "      <td>3.0</td>\n",
              "    </tr>\n",
              "  </tbody>\n",
              "</table>\n",
              "</div>\n",
              "      <button class=\"colab-df-convert\" onclick=\"convertToInteractive('df-5c4f5082-ac84-4893-bea0-ed03f8b5f3a1')\"\n",
              "              title=\"Convert this dataframe to an interactive table.\"\n",
              "              style=\"display:none;\">\n",
              "        \n",
              "  <svg xmlns=\"http://www.w3.org/2000/svg\" height=\"24px\"viewBox=\"0 0 24 24\"\n",
              "       width=\"24px\">\n",
              "    <path d=\"M0 0h24v24H0V0z\" fill=\"none\"/>\n",
              "    <path d=\"M18.56 5.44l.94 2.06.94-2.06 2.06-.94-2.06-.94-.94-2.06-.94 2.06-2.06.94zm-11 1L8.5 8.5l.94-2.06 2.06-.94-2.06-.94L8.5 2.5l-.94 2.06-2.06.94zm10 10l.94 2.06.94-2.06 2.06-.94-2.06-.94-.94-2.06-.94 2.06-2.06.94z\"/><path d=\"M17.41 7.96l-1.37-1.37c-.4-.4-.92-.59-1.43-.59-.52 0-1.04.2-1.43.59L10.3 9.45l-7.72 7.72c-.78.78-.78 2.05 0 2.83L4 21.41c.39.39.9.59 1.41.59.51 0 1.02-.2 1.41-.59l7.78-7.78 2.81-2.81c.8-.78.8-2.07 0-2.86zM5.41 20L4 18.59l7.72-7.72 1.47 1.35L5.41 20z\"/>\n",
              "  </svg>\n",
              "      </button>\n",
              "      \n",
              "  <style>\n",
              "    .colab-df-container {\n",
              "      display:flex;\n",
              "      flex-wrap:wrap;\n",
              "      gap: 12px;\n",
              "    }\n",
              "\n",
              "    .colab-df-convert {\n",
              "      background-color: #E8F0FE;\n",
              "      border: none;\n",
              "      border-radius: 50%;\n",
              "      cursor: pointer;\n",
              "      display: none;\n",
              "      fill: #1967D2;\n",
              "      height: 32px;\n",
              "      padding: 0 0 0 0;\n",
              "      width: 32px;\n",
              "    }\n",
              "\n",
              "    .colab-df-convert:hover {\n",
              "      background-color: #E2EBFA;\n",
              "      box-shadow: 0px 1px 2px rgba(60, 64, 67, 0.3), 0px 1px 3px 1px rgba(60, 64, 67, 0.15);\n",
              "      fill: #174EA6;\n",
              "    }\n",
              "\n",
              "    [theme=dark] .colab-df-convert {\n",
              "      background-color: #3B4455;\n",
              "      fill: #D2E3FC;\n",
              "    }\n",
              "\n",
              "    [theme=dark] .colab-df-convert:hover {\n",
              "      background-color: #434B5C;\n",
              "      box-shadow: 0px 1px 3px 1px rgba(0, 0, 0, 0.15);\n",
              "      filter: drop-shadow(0px 1px 2px rgba(0, 0, 0, 0.3));\n",
              "      fill: #FFFFFF;\n",
              "    }\n",
              "  </style>\n",
              "\n",
              "      <script>\n",
              "        const buttonEl =\n",
              "          document.querySelector('#df-5c4f5082-ac84-4893-bea0-ed03f8b5f3a1 button.colab-df-convert');\n",
              "        buttonEl.style.display =\n",
              "          google.colab.kernel.accessAllowed ? 'block' : 'none';\n",
              "\n",
              "        async function convertToInteractive(key) {\n",
              "          const element = document.querySelector('#df-5c4f5082-ac84-4893-bea0-ed03f8b5f3a1');\n",
              "          const dataTable =\n",
              "            await google.colab.kernel.invokeFunction('convertToInteractive',\n",
              "                                                     [key], {});\n",
              "          if (!dataTable) return;\n",
              "\n",
              "          const docLinkHtml = 'Like what you see? Visit the ' +\n",
              "            '<a target=\"_blank\" href=https://colab.research.google.com/notebooks/data_table.ipynb>data table notebook</a>'\n",
              "            + ' to learn more about interactive tables.';\n",
              "          element.innerHTML = '';\n",
              "          dataTable['output_type'] = 'display_data';\n",
              "          await google.colab.output.renderOutput(dataTable, element);\n",
              "          const docLink = document.createElement('div');\n",
              "          docLink.innerHTML = docLinkHtml;\n",
              "          element.appendChild(docLink);\n",
              "        }\n",
              "      </script>\n",
              "    </div>\n",
              "  </div>\n",
              "  "
            ]
          },
          "metadata": {},
          "execution_count": 26
        }
      ]
    },
    {
      "cell_type": "markdown",
      "source": [
        "Up to this point we were able to extract many insights from the employees of this company and many decisions for the future can be made from that."
      ],
      "metadata": {
        "id": "2GtwZ3uKEV2f"
      }
    }
  ]
}